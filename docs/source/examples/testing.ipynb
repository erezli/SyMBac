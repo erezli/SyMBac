{
 "cells": [
  {
   "cell_type": "code",
   "execution_count": 7,
   "id": "74f19909-0eeb-4473-accf-c1ad6e5ea741",
   "metadata": {},
   "outputs": [
    {
     "name": "stdout",
     "output_type": "stream",
     "text": [
      "The autoreload extension is already loaded. To reload it, use:\n",
      "  %reload_ext autoreload\n"
     ]
    }
   ],
   "source": [
    "%load_ext autoreload\n",
    "%autoreload 2"
   ]
  },
  {
   "cell_type": "code",
   "execution_count": 8,
   "id": "a779b351-c2cb-426c-a2e5-d953d5e8261f",
   "metadata": {
    "tags": []
   },
   "outputs": [
    {
     "name": "stderr",
     "output_type": "stream",
     "text": [
      "/home/gh464/Documents/GitHub/SyMBac/SyMBac/renderer.py:33: UserWarning: Could not load CuPy for SyMBac, are you using a GPU? Defaulting to CPU convolution.\n",
      "  warnings.warn(\"Could not load CuPy for SyMBac, are you using a GPU? Defaulting to CPU convolution.\")\n"
     ]
    }
   ],
   "source": [
    "import sys\n",
    "sys.path.insert(1, '/home/georgeos/Documents/SyMBac/') # Not needed if you installed SyMBac using pip\n",
    "\n",
    "from SyMBac.simulation import Simulation\n",
    "from SyMBac.PSF import PSF_generator\n",
    "from SyMBac.renderer import Renderer\n",
    "from SyMBac.PSF import Camera\n",
    "from SyMBac.misc import get_sample_images\n",
    "real_image = get_sample_images()[\"E. coli 100x\"]"
   ]
  },
  {
   "cell_type": "code",
   "execution_count": 9,
   "id": "cf5edc5d-fdc5-42d6-b41c-53132a76242c",
   "metadata": {},
   "outputs": [],
   "source": [
    "from SyMBac.cell_geometry import get_vertices\n",
    "import matplotlib.pyplot as plt\n",
    "import numpy as np"
   ]
  },
  {
   "cell_type": "code",
   "execution_count": 10,
   "id": "add466d9-c988-4db2-b2fa-62ff4da8e268",
   "metadata": {},
   "outputs": [],
   "source": [
    "cell_verts = get_vertices(6,1,np.pi/2,40)\n",
    "x_verts, y_verts = [_[0] for _ in cell_verts], [_[1] for _ in cell_verts]"
   ]
  },
  {
   "cell_type": "code",
   "execution_count": 11,
   "id": "3657759c-7b62-4800-b23a-dbe0ed75212e",
   "metadata": {},
   "outputs": [
    {
     "data": {
      "text/plain": [
       "<matplotlib.collections.PathCollection at 0x7f21a9cb98b0>"
      ]
     },
     "execution_count": 11,
     "metadata": {},
     "output_type": "execute_result"
    },
    {
     "data": {
      "image/png": "[encoded data removed]",
      "text/plain": [
       "<Figure size 640x480 with 1 Axes>"
      ]
     },
     "metadata": {},
     "output_type": "display_data"
    }
   ],
   "source": [
    "plt.scatter(x_verts, y_verts)"
   ]
  },
  {
   "cell_type": "code",
   "execution_count": 12,
   "id": "a6898a48-29b8-4959-a0ba-14155eaf0eb5",
   "metadata": {},
   "outputs": [],
   "source": [
    "from SyMBac.cell_simulation import run_simulation, create_space, trench_creator, step_and_update\n",
    "from SyMBac.cell import Cell\n",
    "import numpy as np\n",
    "from pymunk.pyglet_util import DrawOptions\n",
    "import pymunk\n",
    "import pyglet"
   ]
  },
  {
   "cell_type": "code",
   "execution_count": 13,
   "id": "667c4f25-5e3a-46ae-bcda-bc0a0a548418",
   "metadata": {},
   "outputs": [],
   "source": [
    "gravity = 0 \n",
    "pix_mic_conv = 0.065\n",
    "trench_length = 20\n",
    "trench_width = 1.1\n",
    "cell_max_length = 3\n",
    "cell_width = 1\n",
    "max_length_var = 0\n",
    "width_var = 0\n",
    "lysis_p = 0\n",
    "show_window = True\n",
    "phys_iters = 10\n",
    "sim_length = 1000\n",
    "save_dir = \"/tmp/\""
   ]
  },
  {
   "cell_type": "code",
   "execution_count": 14,
   "id": "b9f0ac56-897e-4e2c-bfc8-62d39fa4ad6d",
   "metadata": {},
   "outputs": [
    {
     "ename": "NoSuchDisplayException",
     "evalue": "Cannot connect to \"None\"",
     "output_type": "error",
     "traceback": [
      "\u001b[0;31m---------------------------------------------------------------------------\u001b[0m",
      "\u001b[0;31mAttributeError\u001b[0m                            Traceback (most recent call last)",
      "File \u001b[0;32m~/miniconda3/envs/SyMBac/lib/python3.12/site-packages/pyglet/__init__.py:309\u001b[0m, in \u001b[0;36m_ModuleProxy.__getattr__\u001b[0;34m(self, name)\u001b[0m\n\u001b[1;32m    308\u001b[0m \u001b[38;5;28;01mtry\u001b[39;00m:\n\u001b[0;32m--> 309\u001b[0m     \u001b[38;5;28;01mreturn\u001b[39;00m \u001b[38;5;28;43mgetattr\u001b[39;49m\u001b[43m(\u001b[49m\u001b[38;5;28;43mself\u001b[39;49m\u001b[38;5;241;43m.\u001b[39;49m\u001b[43m_module\u001b[49m\u001b[43m,\u001b[49m\u001b[43m \u001b[49m\u001b[43mname\u001b[49m\u001b[43m)\u001b[49m\n\u001b[1;32m    310\u001b[0m \u001b[38;5;28;01mexcept\u001b[39;00m \u001b[38;5;167;01mAttributeError\u001b[39;00m:\n",
      "\u001b[0;31mAttributeError\u001b[0m: 'NoneType' object has no attribute 'Window'",
      "\nDuring handling of the above exception, another exception occurred:\n",
      "\u001b[0;31mNoSuchDisplayException\u001b[0m                    Traceback (most recent call last)",
      "Cell \u001b[0;32mIn[14], line 35\u001b[0m\n\u001b[1;32m     15\u001b[0m cell1 \u001b[38;5;241m=\u001b[39m Cell(\n\u001b[1;32m     16\u001b[0m     length\u001b[38;5;241m=\u001b[39mcell_max_length\u001b[38;5;241m/\u001b[39m\u001b[38;5;241m2\u001b[39m \u001b[38;5;241m*\u001b[39m scale_factor,\n\u001b[1;32m     17\u001b[0m     width\u001b[38;5;241m=\u001b[39mcell_width \u001b[38;5;241m*\u001b[39m scale_factor,\n\u001b[0;32m   (...)\u001b[0m\n\u001b[1;32m     30\u001b[0m     lysis_p\u001b[38;5;241m=\u001b[39mlysis_p\n\u001b[1;32m     31\u001b[0m )\n\u001b[1;32m     33\u001b[0m \u001b[38;5;28;01mif\u001b[39;00m show_window:\n\u001b[0;32m---> 35\u001b[0m     window \u001b[38;5;241m=\u001b[39m \u001b[43mpyglet\u001b[49m\u001b[38;5;241;43m.\u001b[39;49m\u001b[43mwindow\u001b[49m\u001b[38;5;241;43m.\u001b[39;49m\u001b[43mWindow\u001b[49m(\u001b[38;5;241m700\u001b[39m, \u001b[38;5;241m700\u001b[39m, \u001b[38;5;124m\"\u001b[39m\u001b[38;5;124mSyMBac\u001b[39m\u001b[38;5;124m\"\u001b[39m, resizable\u001b[38;5;241m=\u001b[39m\u001b[38;5;28;01mTrue\u001b[39;00m)\n\u001b[1;32m     36\u001b[0m     options \u001b[38;5;241m=\u001b[39m DrawOptions()\n\u001b[1;32m     37\u001b[0m     options\u001b[38;5;241m.\u001b[39mshape_outline_color \u001b[38;5;241m=\u001b[39m (\u001b[38;5;241m10\u001b[39m,\u001b[38;5;241m20\u001b[39m,\u001b[38;5;241m30\u001b[39m,\u001b[38;5;241m40\u001b[39m)\n",
      "File \u001b[0;32m~/miniconda3/envs/SyMBac/lib/python3.12/site-packages/pyglet/__init__.py:315\u001b[0m, in \u001b[0;36m_ModuleProxy.__getattr__\u001b[0;34m(self, name)\u001b[0m\n\u001b[1;32m    312\u001b[0m     \u001b[38;5;28;01mraise\u001b[39;00m\n\u001b[1;32m    314\u001b[0m import_name \u001b[38;5;241m=\u001b[39m \u001b[38;5;124mf\u001b[39m\u001b[38;5;124m'\u001b[39m\u001b[38;5;124mpyglet.\u001b[39m\u001b[38;5;132;01m{\u001b[39;00m\u001b[38;5;28mself\u001b[39m\u001b[38;5;241m.\u001b[39m_module_name\u001b[38;5;132;01m}\u001b[39;00m\u001b[38;5;124m'\u001b[39m\n\u001b[0;32m--> 315\u001b[0m \u001b[38;5;28;43m__import__\u001b[39;49m\u001b[43m(\u001b[49m\u001b[43mimport_name\u001b[49m\u001b[43m)\u001b[49m\n\u001b[1;32m    316\u001b[0m module \u001b[38;5;241m=\u001b[39m sys\u001b[38;5;241m.\u001b[39mmodules[import_name]\n\u001b[1;32m    317\u001b[0m \u001b[38;5;28mobject\u001b[39m\u001b[38;5;241m.\u001b[39m\u001b[38;5;21m__setattr__\u001b[39m(\u001b[38;5;28mself\u001b[39m, \u001b[38;5;124m'\u001b[39m\u001b[38;5;124m_module\u001b[39m\u001b[38;5;124m'\u001b[39m, module)\n",
      "File \u001b[0;32m~/miniconda3/envs/SyMBac/lib/python3.12/site-packages/pyglet/window/__init__.py:1929\u001b[0m\n\u001b[1;32m   1927\u001b[0m \u001b[38;5;28;01mif\u001b[39;00m \u001b[38;5;129;01mnot\u001b[39;00m _is_pyglet_doc_run:\n\u001b[1;32m   1928\u001b[0m     pyglet\u001b[38;5;241m.\u001b[39mwindow \u001b[38;5;241m=\u001b[39m sys\u001b[38;5;241m.\u001b[39mmodules[\u001b[38;5;18m__name__\u001b[39m]\n\u001b[0;32m-> 1929\u001b[0m     \u001b[43mgl\u001b[49m\u001b[38;5;241;43m.\u001b[39;49m\u001b[43m_create_shadow_window\u001b[49m\u001b[43m(\u001b[49m\u001b[43m)\u001b[49m\n",
      "File \u001b[0;32m~/miniconda3/envs/SyMBac/lib/python3.12/site-packages/pyglet/gl/__init__.py:165\u001b[0m, in \u001b[0;36m_create_shadow_window\u001b[0;34m()\u001b[0m\n\u001b[1;32m    162\u001b[0m \u001b[38;5;250m        \u001b[39m\u001b[38;5;124;03m\"\"\"Shadow window does not need a projection.\"\"\"\u001b[39;00m\n\u001b[1;32m    163\u001b[0m         \u001b[38;5;28;01mpass\u001b[39;00m\n\u001b[0;32m--> 165\u001b[0m _shadow_window \u001b[38;5;241m=\u001b[39m \u001b[43mShadowWindow\u001b[49m\u001b[43m(\u001b[49m\u001b[43m)\u001b[49m\n\u001b[1;32m    166\u001b[0m _shadow_window\u001b[38;5;241m.\u001b[39mswitch_to()\n\u001b[1;32m    168\u001b[0m \u001b[38;5;28;01mfrom\u001b[39;00m \u001b[38;5;21;01mpyglet\u001b[39;00m \u001b[38;5;28;01mimport\u001b[39;00m app\n",
      "File \u001b[0;32m~/miniconda3/envs/SyMBac/lib/python3.12/site-packages/pyglet/gl/__init__.py:159\u001b[0m, in \u001b[0;36m_create_shadow_window.<locals>.ShadowWindow.__init__\u001b[0;34m(self)\u001b[0m\n\u001b[1;32m    158\u001b[0m \u001b[38;5;28;01mdef\u001b[39;00m \u001b[38;5;21m__init__\u001b[39m(\u001b[38;5;28mself\u001b[39m):\n\u001b[0;32m--> 159\u001b[0m     \u001b[38;5;28;43msuper\u001b[39;49m\u001b[43m(\u001b[49m\u001b[43m)\u001b[49m\u001b[38;5;241;43m.\u001b[39;49m\u001b[38;5;21;43m__init__\u001b[39;49m\u001b[43m(\u001b[49m\u001b[43mwidth\u001b[49m\u001b[38;5;241;43m=\u001b[39;49m\u001b[38;5;241;43m1\u001b[39;49m\u001b[43m,\u001b[49m\u001b[43m \u001b[49m\u001b[43mheight\u001b[49m\u001b[38;5;241;43m=\u001b[39;49m\u001b[38;5;241;43m1\u001b[39;49m\u001b[43m,\u001b[49m\u001b[43m \u001b[49m\u001b[43mvisible\u001b[49m\u001b[38;5;241;43m=\u001b[39;49m\u001b[38;5;28;43;01mFalse\u001b[39;49;00m\u001b[43m)\u001b[49m\n",
      "File \u001b[0;32m~/miniconda3/envs/SyMBac/lib/python3.12/site-packages/pyglet/window/xlib/__init__.py:138\u001b[0m, in \u001b[0;36mXlibWindow.__init__\u001b[0;34m(self, *args, **kwargs)\u001b[0m\n\u001b[1;32m    135\u001b[0m         \u001b[38;5;28;01melse\u001b[39;00m:\n\u001b[1;32m    136\u001b[0m             \u001b[38;5;28mself\u001b[39m\u001b[38;5;241m.\u001b[39m_event_handlers[message] \u001b[38;5;241m=\u001b[39m func\n\u001b[0;32m--> 138\u001b[0m \u001b[38;5;28;43msuper\u001b[39;49m\u001b[43m(\u001b[49m\u001b[43mXlibWindow\u001b[49m\u001b[43m,\u001b[49m\u001b[43m \u001b[49m\u001b[38;5;28;43mself\u001b[39;49m\u001b[43m)\u001b[49m\u001b[38;5;241;43m.\u001b[39;49m\u001b[38;5;21;43m__init__\u001b[39;49m\u001b[43m(\u001b[49m\u001b[38;5;241;43m*\u001b[39;49m\u001b[43margs\u001b[49m\u001b[43m,\u001b[49m\u001b[43m \u001b[49m\u001b[38;5;241;43m*\u001b[39;49m\u001b[38;5;241;43m*\u001b[39;49m\u001b[43mkwargs\u001b[49m\u001b[43m)\u001b[49m\n\u001b[1;32m    140\u001b[0m \u001b[38;5;28;01mglobal\u001b[39;00m _can_detect_autorepeat\n\u001b[1;32m    141\u001b[0m \u001b[38;5;28;01mif\u001b[39;00m _can_detect_autorepeat \u001b[38;5;129;01mis\u001b[39;00m \u001b[38;5;28;01mNone\u001b[39;00m:\n",
      "File \u001b[0;32m~/miniconda3/envs/SyMBac/lib/python3.12/site-packages/pyglet/window/__init__.py:513\u001b[0m, in \u001b[0;36mBaseWindow.__init__\u001b[0;34m(self, width, height, caption, resizable, style, fullscreen, visible, vsync, file_drops, display, screen, config, context, mode)\u001b[0m\n\u001b[1;32m    510\u001b[0m \u001b[38;5;28mself\u001b[39m\u001b[38;5;241m.\u001b[39m_event_queue \u001b[38;5;241m=\u001b[39m []\n\u001b[1;32m    512\u001b[0m \u001b[38;5;28;01mif\u001b[39;00m \u001b[38;5;129;01mnot\u001b[39;00m display:\n\u001b[0;32m--> 513\u001b[0m     display \u001b[38;5;241m=\u001b[39m \u001b[43mpyglet\u001b[49m\u001b[38;5;241;43m.\u001b[39;49m\u001b[43mcanvas\u001b[49m\u001b[38;5;241;43m.\u001b[39;49m\u001b[43mget_display\u001b[49m\u001b[43m(\u001b[49m\u001b[43m)\u001b[49m\n\u001b[1;32m    515\u001b[0m \u001b[38;5;28;01mif\u001b[39;00m \u001b[38;5;129;01mnot\u001b[39;00m screen:\n\u001b[1;32m    516\u001b[0m     screen \u001b[38;5;241m=\u001b[39m display\u001b[38;5;241m.\u001b[39mget_default_screen()\n",
      "File \u001b[0;32m~/miniconda3/envs/SyMBac/lib/python3.12/site-packages/pyglet/canvas/__init__.py:59\u001b[0m, in \u001b[0;36mget_display\u001b[0;34m()\u001b[0m\n\u001b[1;32m     56\u001b[0m     \u001b[38;5;28;01mreturn\u001b[39;00m display\n\u001b[1;32m     58\u001b[0m \u001b[38;5;66;03m# Otherwise, create a new display and return it.\u001b[39;00m\n\u001b[0;32m---> 59\u001b[0m \u001b[38;5;28;01mreturn\u001b[39;00m \u001b[43mDisplay\u001b[49m\u001b[43m(\u001b[49m\u001b[43m)\u001b[49m\n",
      "File \u001b[0;32m~/miniconda3/envs/SyMBac/lib/python3.12/site-packages/pyglet/canvas/xlib.py:88\u001b[0m, in \u001b[0;36mXlibDisplay.__init__\u001b[0;34m(self, name, x_screen)\u001b[0m\n\u001b[1;32m     86\u001b[0m \u001b[38;5;28mself\u001b[39m\u001b[38;5;241m.\u001b[39m_display \u001b[38;5;241m=\u001b[39m xlib\u001b[38;5;241m.\u001b[39mXOpenDisplay(name)\n\u001b[1;32m     87\u001b[0m \u001b[38;5;28;01mif\u001b[39;00m \u001b[38;5;129;01mnot\u001b[39;00m \u001b[38;5;28mself\u001b[39m\u001b[38;5;241m.\u001b[39m_display:\n\u001b[0;32m---> 88\u001b[0m     \u001b[38;5;28;01mraise\u001b[39;00m NoSuchDisplayException(\u001b[38;5;124mf\u001b[39m\u001b[38;5;124m'\u001b[39m\u001b[38;5;124mCannot connect to \u001b[39m\u001b[38;5;124m\"\u001b[39m\u001b[38;5;132;01m{\u001b[39;00mname\u001b[38;5;132;01m}\u001b[39;00m\u001b[38;5;124m\"\u001b[39m\u001b[38;5;124m'\u001b[39m)\n\u001b[1;32m     90\u001b[0m screen_count \u001b[38;5;241m=\u001b[39m xlib\u001b[38;5;241m.\u001b[39mXScreenCount(\u001b[38;5;28mself\u001b[39m\u001b[38;5;241m.\u001b[39m_display)\n\u001b[1;32m     91\u001b[0m \u001b[38;5;28;01mif\u001b[39;00m x_screen \u001b[38;5;241m>\u001b[39m\u001b[38;5;241m=\u001b[39m screen_count:\n",
      "\u001b[0;31mNoSuchDisplayException\u001b[0m: Cannot connect to \"None\""
     ]
    }
   ],
   "source": [
    "\n",
    "space = create_space()\n",
    "space.gravity = 0, gravity  # arbitrary units, negative is toward trench pole\n",
    "#space.iterations = 1000\n",
    "#space.damping = 0\n",
    "#space.collision_bias = 0.0017970074436457143*10\n",
    "space.collision_slop = 0.\n",
    "dt = 1 / 100  # time-step per frame\n",
    "pix_mic_conv = 1 / pix_mic_conv  # micron per pixel\n",
    "scale_factor = pix_mic_conv * 3  # resolution scaling factor\n",
    "\n",
    "trench_length = trench_length * scale_factor\n",
    "trench_width = trench_width * scale_factor\n",
    "trench_creator(trench_width, trench_length, (35, 0), space)  # Coordinates of bottom left corner of the trench\n",
    "\n",
    "cell1 = Cell(\n",
    "    length=cell_max_length/2 * scale_factor,\n",
    "    width=cell_width * scale_factor,\n",
    "    resolution=60,\n",
    "    position=(500, 500), #x.y\n",
    "    angle=np.pi/4,\n",
    "    space=space,\n",
    "    dt= dt,\n",
    "    growth_rate_constant=1,\n",
    "    max_length=cell_max_length * scale_factor,\n",
    "    max_length_mean=cell_max_length * scale_factor,\n",
    "    max_length_var=max_length_var * np.sqrt(scale_factor),\n",
    "    width_var=width_var * np.sqrt(scale_factor),\n",
    "    width_mean=cell_width * scale_factor,\n",
    "    parent=None,\n",
    "    lysis_p=lysis_p\n",
    ")\n",
    "\n",
    "if show_window:\n",
    "\n",
    "    window = pyglet.window.Window(700, 700, \"SyMBac\", resizable=True)\n",
    "    options = DrawOptions()\n",
    "    options.shape_outline_color = (10,20,30,40)\n",
    "    @window.event\n",
    "    def on_draw():\n",
    "        window.clear()\n",
    "        space.debug_draw(options)\n",
    "\n",
    "    # key press event\n",
    "    @window.event\n",
    "    def on_key_press(symbol, modifier):\n",
    "\n",
    "        # key \"E\" get press\n",
    "        if symbol == pyglet.window.key.E:\n",
    "            # close the window\n",
    "            window.close()\n",
    "\n",
    "\n",
    "\n",
    "x = [0]\n",
    "cell_timeseries = []\n",
    "cells = [cell1]\n",
    "if show_window:\n",
    "    pyglet.clock.schedule_interval(step_and_update, interval=dt, cells=cells, space=space, phys_iters=phys_iters,\n",
    "                                   ylim=trench_length, cell_timeseries=cell_timeseries, x=x, sim_length=sim_length,\n",
    "                                   save_dir=save_dir)\n",
    "    pyglet.app.run()\n",
    "else:\n",
    "    for _ in tqdm(range(sim_length+2)):\n",
    "        step_and_update(\n",
    "            dt=dt, cells=cells, space=space, phys_iters=phys_iters, ylim=trench_length,\n",
    "            cell_timeseries=cell_timeseries, x=x, sim_length=sim_length, save_dir=save_dir\n",
    "        )\n",
    "\n",
    "\n",
    "# window.close()\n",
    "# phys_iters = phys_iters\n",
    "# for x in tqdm(range(sim_length+250),desc=\"Simulation Progress\"):\n",
    "#    cells = step_and_update(dt=dt, cells=cells, space=space, phys_iters=phys_iters,ylim=trench_length*1.1, cell_timeseries = cell_timeseries, x=x, sim_length = sim_length, save_dir = save_dir)\n",
    "#    if x > 250:\n",
    "#        cell_timeseries.append(deepcopy(cells))"
   ]
  },
  {
   "cell_type": "code",
   "execution_count": null,
   "id": "8635710e-852c-48d6-b310-0d16c07a7de3",
   "metadata": {},
   "outputs": [],
   "source": [
    "cell_timeseries"
   ]
  }
 ],
 "metadata": {
  "kernelspec": {
   "display_name": "Python 3 (ipykernel)",
   "language": "python",
   "name": "python3"
  },
  "language_info": {
   "codemirror_mode": {
    "name": "ipython",
    "version": 3
   },
   "file_extension": ".py",
   "mimetype": "text/x-python",
   "name": "python",
   "nbconvert_exporter": "python",
   "pygments_lexer": "ipython3",
   "version": "3.12.2"
  }
 },
 "nbformat": 4,
 "nbformat_minor": 5
}
